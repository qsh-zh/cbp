{
 "cells": [
  {
   "cell_type": "code",
   "execution_count": 1,
   "metadata": {},
   "outputs": [],
   "source": [
    "import numpy as np\n",
    "import cbp"
   ]
  },
  {
   "cell_type": "markdown",
   "metadata": {},
   "source": [
    "# 1. Construct nodes"
   ]
  },
  {
   "cell_type": "markdown",
   "metadata": {},
   "source": [
    "## 1.1 Construct Variable node"
   ]
  },
  {
   "cell_type": "code",
   "execution_count": 2,
   "metadata": {},
   "outputs": [],
   "source": [
    "rv_dim = 3\n",
    "varnode_1 = cbp.node.VarNode(rv_dim)\n",
    "fix_marginal = np.ones(3) / 3\n",
    "varnode_2 = cbp.node.VarNode(rv_dim,constrained_marginal=fix_marginal)"
   ]
  },
  {
   "cell_type": "markdown",
   "metadata": {},
   "source": [
    "## 1.2 Construct Factor node"
   ]
  },
  {
   "cell_type": "code",
   "execution_count": 3,
   "metadata": {},
   "outputs": [],
   "source": [
    "connected_var = [\"VarNode_000\",\"VarNode_001\"]\n",
    "factor_node = cbp.node.FactorNode(connected_var, np.ones((3,3)))"
   ]
  },
  {
   "cell_type": "markdown",
   "metadata": {},
   "source": [
    "# 2. Construct Graph"
   ]
  },
  {
   "cell_type": "code",
   "execution_count": 4,
   "metadata": {},
   "outputs": [
    {
     "output_type": "execute_result",
     "data": {
      "text/plain": "'FactorNode_000'"
     },
     "metadata": {},
     "execution_count": 4
    }
   ],
   "source": [
    "graph = cbp.graph.GraphModel()\n",
    "graph.add_varnode(varnode_1) # GraphModel use a simple for naming added node, varnode_1.name == \"VarNode_000\"\n",
    "graph.add_varnode(varnode_2) # \"VarNode_001\"\n",
    "graph.add_factornode(factor_node) # 'FactorNode_000'"
   ]
  },
  {
   "cell_type": "markdown",
   "metadata": {},
   "source": [
    "# 3. Run inference"
   ]
  },
  {
   "cell_type": "code",
   "execution_count": 5,
   "metadata": {},
   "outputs": [
    {
     "output_type": "execute_result",
     "data": {
      "text/plain": "([0.0], 1)"
     },
     "metadata": {},
     "execution_count": 5
    }
   ],
   "source": [
    "graph.run_bp() # run iterative scaling\n",
    "# graph.run_cnp() # run cnp"
   ]
  },
  {
   "cell_type": "markdown",
   "metadata": {},
   "source": [
    "# 4. Access to the marginal"
   ]
  },
  {
   "cell_type": "code",
   "execution_count": 6,
   "metadata": {
    "tags": []
   },
   "outputs": [
    {
     "output_type": "stream",
     "name": "stdout",
     "text": "[0.33333333 0.33333333 0.33333333]\n[[0.11111111 0.11111111 0.11111111]\n [0.11111111 0.11111111 0.11111111]\n [0.11111111 0.11111111 0.11111111]]\n"
    }
   ],
   "source": [
    "varnode = graph.get_node('VarNode_000') # same node as varnode_1\n",
    "print(varnode.marginal())\n",
    "print(factor_node.marginal())"
   ]
  },
  {
   "cell_type": "code",
   "execution_count": 7,
   "metadata": {
    "tags": []
   },
   "outputs": [
    {
     "output_type": "stream",
     "name": "stdout",
     "text": "{'FactorNode_000': array([[0.11111111, 0.11111111, 0.11111111],\n       [0.11111111, 0.11111111, 0.11111111],\n       [0.11111111, 0.11111111, 0.11111111]]), 'VarNode_000': array([0.33333333, 0.33333333, 0.33333333]), 'VarNode_001': array([0.33333333, 0.33333333, 0.33333333])}\n"
    }
   ],
   "source": [
    "print(graph.export_convergence_marginals())"
   ]
  },
  {
   "cell_type": "markdown",
   "metadata": {},
   "source": [
    "# 5. Construct HMM model"
   ]
  },
  {
   "cell_type": "code",
   "execution_count": 8,
   "metadata": {},
   "outputs": [],
   "source": [
    "num_hidden_state = 3\n",
    "num_obser_state = 4\n",
    "T = 3\n",
    "hmm = cbp.graph.GraphModel()"
   ]
  },
  {
   "cell_type": "markdown",
   "metadata": {},
   "source": [
    "## 5.1 Construct hidden state node"
   ]
  },
  {
   "cell_type": "code",
   "execution_count": 9,
   "metadata": {},
   "outputs": [],
   "source": [
    "for i in range(T):\n",
    "    hmm.add_varnode(cbp.node.VarNode(num_hidden_state))"
   ]
  },
  {
   "cell_type": "markdown",
   "metadata": {},
   "source": [
    "## 5.2 Construct observation state node"
   ]
  },
  {
   "cell_type": "code",
   "execution_count": 10,
   "metadata": {},
   "outputs": [],
   "source": [
    "for i in range(T):\n",
    "    hmm.add_varnode(cbp.node.VarNode(num_obser_state,np.random.dirichlet([1]*num_obser_state)))"
   ]
  },
  {
   "cell_type": "markdown",
   "metadata": {},
   "source": [
    "## 5.3 Construct transition factor node "
   ]
  },
  {
   "cell_type": "code",
   "execution_count": 11,
   "metadata": {},
   "outputs": [],
   "source": [
    "for i in range(T-1):\n",
    "    hmm.add_factornode(cbp.node.FactorNode([f\"VarNode_{i:03d}\",f\"VarNode_{i+1:03d}\"],potential=np.random.dirichlet([1]*num_hidden_state,size=num_hidden_state)))"
   ]
  },
  {
   "cell_type": "markdown",
   "metadata": {},
   "source": [
    "## 5.4 Construct emission factor node"
   ]
  },
  {
   "cell_type": "code",
   "execution_count": 12,
   "metadata": {},
   "outputs": [],
   "source": [
    "for i in range(T):\n",
    "    hmm.add_factornode(cbp.node.FactorNode([f\"VarNode_{i:03d}\",f\"VarNode_{i+T:03d}\"],potential=np.random.dirichlet([1]*num_obser_state,size=num_hidden_state)))"
   ]
  },
  {
   "cell_type": "markdown",
   "metadata": {},
   "source": [
    "## 5.5 Visualize hmm graph"
   ]
  },
  {
   "cell_type": "code",
   "execution_count": 13,
   "metadata": {},
   "outputs": [],
   "source": [
    "hmm.plot()"
   ]
  },
  {
   "cell_type": "markdown",
   "metadata": {},
   "source": [
    "## 5.6 Run inference"
   ]
  },
  {
   "cell_type": "code",
   "execution_count": 14,
   "metadata": {},
   "outputs": [
    {
     "output_type": "execute_result",
     "data": {
      "text/plain": "([0.9803173953701733, 0.05627442398462251, 7.303185833862358e-16], 3)"
     },
     "metadata": {},
     "execution_count": 14
    }
   ],
   "source": [
    "hmm.run_bp()"
   ]
  }
 ],
 "metadata": {
  "language_info": {
   "codemirror_mode": {
    "name": "ipython",
    "version": 3
   },
   "file_extension": ".py",
   "mimetype": "text/x-python",
   "name": "python",
   "nbconvert_exporter": "python",
   "pygments_lexer": "ipython3",
   "version": "3.7.6-final"
  },
  "orig_nbformat": 2,
  "kernelspec": {
   "name": "python3",
   "display_name": "Python 3"
  }
 },
 "nbformat": 4,
 "nbformat_minor": 2
}