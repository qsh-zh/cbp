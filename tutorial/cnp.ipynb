{
 "metadata": {
  "language_info": {
   "codemirror_mode": {
    "name": "ipython",
    "version": 3
   },
   "file_extension": ".py",
   "mimetype": "text/x-python",
   "name": "python",
   "nbconvert_exporter": "python",
   "pygments_lexer": "ipython3",
   "version": "3.7.4-final"
  },
  "orig_nbformat": 2,
  "kernelspec": {
   "name": "python37464bitbaseconda67a5fbcceef34aca81fcfa0dfa0c6249",
   "display_name": "Python 3.7.4 64-bit ('base': conda)"
  }
 },
 "nbformat": 4,
 "nbformat_minor": 2,
 "cells": [
  {
   "cell_type": "markdown",
   "metadata": {},
   "source": [
    "## Customed a new cnp coef policy"
   ]
  },
  {
   "cell_type": "code",
   "execution_count": 2,
   "metadata": {},
   "outputs": [],
   "source": [
    "def crazy_policy(node, node_map):\n",
    "    # this policy does not have convergence gaurantee\n",
    "    cnt_var = 0\n",
    "    cnt_factor = 0\n",
    "    propotion_coef = 2.0\n",
    "    for name, _ in node_map.items():\n",
    "        if 'VarNode' in name:\n",
    "            cnt_var += 1\n",
    "        elif 'FactorNode' in name:\n",
    "            cnt_factor += 1\n",
    "        else:\n",
    "            raise RuntimeError(f\"{name} is wrong\")\n",
    "\n",
    "    if node.__class__.__name__ == 'VarNode':\n",
    "        coef = 1.0 - len(node.connections) - propotion_coef * \\\n",
    "            (cnt_factor + cnt_var) / cnt_var\n",
    "    elif node.__class__.__name__ == \"FactorNode\":\n",
    "        coef = 1 + propotion_coef * (cnt_factor + cnt_var) / cnt_factor\n",
    "    return coef\n"
   ]
  },
  {
   "cell_type": "code",
   "execution_count": 3,
   "metadata": {},
   "outputs": [],
   "source": [
    "import cbp\n",
    "\n",
    "crazy_graph = cbp.graph.GraphModel(coef_policy=crazy_policy)"
   ]
  },
  {
   "cell_type": "code",
   "execution_count": null,
   "metadata": {},
   "outputs": [],
   "source": []
  }
 ]
}