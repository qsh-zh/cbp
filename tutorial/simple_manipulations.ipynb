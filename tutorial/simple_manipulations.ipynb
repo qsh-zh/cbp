{
 "cells": [
  {
   "cell_type": "code",
   "execution_count": 1,
   "metadata": {},
   "outputs": [],
   "source": [
    "import numpy as np\n",
    "import cbp"
   ]
  },
  {
   "cell_type": "markdown",
   "metadata": {},
   "source": [
    "# 1. Construct nodes"
   ]
  },
  {
   "cell_type": "markdown",
   "metadata": {},
   "source": [
    "## 1.1 Construct Variable node"
   ]
  },
  {
   "cell_type": "code",
   "execution_count": 2,
   "metadata": {},
   "outputs": [],
   "source": [
    "rv_dim = 3\n",
    "varnode_1 = cbp.node.VarNode(rv_dim)\n",
    "fix_marginal = np.ones(3) / 3\n",
    "varnode_2 = cbp.node.VarNode(rv_dim,constrained_marginal=fix_marginal)"
   ]
  },
  {
   "cell_type": "markdown",
   "metadata": {},
   "source": [
    "## 1.2 Construct Factor node"
   ]
  },
  {
   "cell_type": "code",
   "execution_count": 3,
   "metadata": {},
   "outputs": [],
   "source": [
    "connected_var = [\"VarNode_000\",\"VarNode_001\"]\n",
    "factor_node = cbp.node.FactorNode(connected_var, np.ones((3,3)))"
   ]
  },
  {
   "cell_type": "markdown",
   "metadata": {},
   "source": [
    "# 2. Construct Graph"
   ]
  },
  {
   "cell_type": "code",
   "execution_count": 4,
   "metadata": {},
   "outputs": [
    {
     "output_type": "execute_result",
     "data": {
      "text/plain": "'FactorNode_000'"
     },
     "metadata": {},
     "execution_count": 4
    }
   ],
   "source": [
    "graph = cbp.graph.GraphModel()\n",
    "graph.add_varnode(varnode_1)\n",
    "graph.add_varnode(varnode_2)\n",
    "graph.add_factornode(factor_node)"
   ]
  },
  {
   "cell_type": "markdown",
   "metadata": {},
   "source": [
    "# 3. Run inference"
   ]
  },
  {
   "cell_type": "code",
   "execution_count": 5,
   "metadata": {},
   "outputs": [
    {
     "output_type": "execute_result",
     "data": {
      "text/plain": "([0.0], 1)"
     },
     "metadata": {},
     "execution_count": 5
    }
   ],
   "source": [
    "graph.run_bp() # run iterative scaling\n",
    "# graph.run_cnp() # run cnp"
   ]
  },
  {
   "cell_type": "markdown",
   "metadata": {},
   "source": [
    "# 4. Access to the marginal"
   ]
  },
  {
   "cell_type": "code",
   "execution_count": 6,
   "metadata": {},
   "outputs": [
    {
     "output_type": "stream",
     "name": "stdout",
     "text": "[0.33333333 0.33333333 0.33333333]\n[[0.11111111 0.11111111 0.11111111]\n [0.11111111 0.11111111 0.11111111]\n [0.11111111 0.11111111 0.11111111]]\n"
    }
   ],
   "source": [
    "varnode = graph.get_node('VarNode_000') # same node as varnode_1\n",
    "print(varnode.marginal())\n",
    "print(factor_node.marginal())"
   ]
  },
  {
   "cell_type": "code",
   "execution_count": 7,
   "metadata": {},
   "outputs": [
    {
     "output_type": "stream",
     "name": "stdout",
     "text": "{'FactorNode_000': array([[0.11111111, 0.11111111, 0.11111111],\n       [0.11111111, 0.11111111, 0.11111111],\n       [0.11111111, 0.11111111, 0.11111111]]), 'VarNode_000': array([0.33333333, 0.33333333, 0.33333333]), 'VarNode_001': array([0.33333333, 0.33333333, 0.33333333])}\n"
    }
   ],
   "source": [
    "print(graph.export_convergence_marginals())"
   ]
  },
  {
   "cell_type": "code",
   "execution_count": null,
   "metadata": {},
   "outputs": [],
   "source": []
  }
 ],
 "metadata": {
  "language_info": {
   "codemirror_mode": {
    "name": "ipython",
    "version": 3
   },
   "file_extension": ".py",
   "mimetype": "text/x-python",
   "name": "python",
   "nbconvert_exporter": "python",
   "pygments_lexer": "ipython3",
   "version": "3.7.6-final"
  },
  "orig_nbformat": 2,
  "kernelspec": {
   "name": "python3",
   "display_name": "Python 3"
  }
 },
 "nbformat": 4,
 "nbformat_minor": 2
}